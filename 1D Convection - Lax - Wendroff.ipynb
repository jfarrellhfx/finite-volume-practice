{
 "cells": [
  {
   "cell_type": "markdown",
   "metadata": {},
   "source": [
    "This notebook solves the 1D - convection equation using a finite volume method.  The method is 2nd order, called the *Lax - Wendroff* method.  The equation is:\n",
    "\n",
    "$$\\partial_t u + c\\partial_x u = 0$$"
   ]
  },
  {
   "cell_type": "code",
   "execution_count": 1,
   "metadata": {},
   "outputs": [],
   "source": [
    "#Imports\n",
    "import matplotlib.pyplot as plt\n",
    "import numpy as np\n",
    "from scipy import linalg"
   ]
  },
  {
   "cell_type": "code",
   "execution_count": 2,
   "metadata": {},
   "outputs": [],
   "source": [
    "#Numerical Parameters and Initial Conditions\n",
    "Nx = 500\n",
    "x = np.linspace(0.0,1.0,Nx + 1)\n",
    "dx = 1/50.\n",
    "xMid = x[:-1] + dx/2.\n",
    "c=1.\n",
    "xLeft = 0.\n",
    "xRight = 0.\n",
    "\n"
   ]
  },
  {
   "cell_type": "markdown",
   "metadata": {},
   "source": [
    " For Lax - Wendfroff, we approximate the thing at the midpoint in time ($dx / 2$) as well... it's a second order method."
   ]
  },
  {
   "cell_type": "code",
   "execution_count": 6,
   "metadata": {},
   "outputs": [],
   "source": [
    "dt = 0.001\n",
    "u = 0.5 * np.exp(-(x-0.5)**2/0.01)\n",
    "\n",
    "U = np.zeros_like(u)\n",
    "simEnd = 1\n",
    "t = np.arange(0,simEnd,dt)\n",
    "\n",
    "storage = [np.array(u)]\n",
    "for n in range(len(t)):\n",
    "    uBC = np.concatenate((np.array([u[-1]]), u, np.array([u[0]])))\n",
    "    #print(uBC)\n",
    "    for i in range(1,len(uBC)-2):\n",
    "        FMinus = 1/2*(c*uBC[i-1] + c*uBC[i]) - dx/dt/2.*(uBC[i]-uBC[i-1])\n",
    "        FPlus = 1/2*(c*uBC[i] + c*uBC[i+1]) - dx/dt/2.*(uBC[i+1]-uBC[i])\n",
    "        u[i-1] = u[i-1] - (dt /dx )*(FPlus - FMinus)\n",
    "        #print(FPlus - FMinus)\n",
    "    storage.append(u)"
   ]
  },
  {
   "cell_type": "code",
   "execution_count": 7,
   "metadata": {},
   "outputs": [
    {
     "data": {
      "image/png": "[encoded data removed]",
      "text/plain": [
       "<Figure size 432x288 with 1 Axes>"
      ]
     },
     "metadata": {
      "needs_background": "light"
     },
     "output_type": "display_data"
    }
   ],
   "source": [
    "plt.plot(storage[100])\n",
    "plt.show()\n"
   ]
  }
 ],
 "metadata": {
  "kernelspec": {
   "display_name": "Python 3",
   "language": "python",
   "name": "python3"
  },
  "language_info": {
   "codemirror_mode": {
    "name": "ipython",
    "version": 3
   },
   "file_extension": ".py",
   "mimetype": "text/x-python",
   "name": "python",
   "nbconvert_exporter": "python",
   "pygments_lexer": "ipython3",
   "version": "3.6.5"
  }
 },
 "nbformat": 4,
 "nbformat_minor": 2
}
