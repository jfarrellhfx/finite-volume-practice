{
 "cells": [
  {
   "cell_type": "markdown",
   "metadata": {},
   "source": [
    "This notebook solves the 1D convection equation with a finite volume method.  The equation is:\n",
    "\n",
    "$$\\partial_t U + u \\partial_x U = 0$$\n",
    "\n",
    "So $u$ is the convection speed, this code uses $u = 1$.\n",
    "\n",
    "First, import:"
   ]
  },
  {
   "cell_type": "code",
   "execution_count": 2,
   "metadata": {},
   "outputs": [],
   "source": [
    "import numpy as np\n",
    "import matplotlib.pyplot as plt\n",
    "from scipy import linalg\n",
    "%matplotlib inline\n"
   ]
  },
  {
   "cell_type": "markdown",
   "metadata": {},
   "source": [
    "How many spatial grid points, separated by what value, on what interval?"
   ]
  },
  {
   "cell_type": "code",
   "execution_count": 3,
   "metadata": {},
   "outputs": [],
   "source": [
    "Nx = 50\n",
    "x = np.linspace(0, 1, Nx+1)\n",
    "dx = 1. / Nx\n"
   ]
  },
  {
   "cell_type": "markdown",
   "metadata": {},
   "source": [
    "We need the *mid points* of each little \"finite volume\" (interval in 1D):"
   ]
  },
  {
   "cell_type": "code",
   "execution_count": 4,
   "metadata": {},
   "outputs": [],
   "source": [
    "xmid = 0.5 * (x[0:Nx] + x[1:Nx+1])"
   ]
  },
  {
   "cell_type": "markdown",
   "metadata": {},
   "source": [
    "And we need a few more simulation parameters, namely $u$ the wave speed and some final value of $t$ at which to stop:"
   ]
  },
  {
   "cell_type": "code",
   "execution_count": 5,
   "metadata": {},
   "outputs": [],
   "source": [
    "u = 1\n",
    "tfinal = 1"
   ]
  },
  {
   "cell_type": "markdown",
   "metadata": {},
   "source": [
    "To satisfy the CFL condition, need to calculate a $dt$:"
   ]
  },
  {
   "cell_type": "code",
   "execution_count": 6,
   "metadata": {},
   "outputs": [
    {
     "name": "stdout",
     "output_type": "stream",
     "text": [
      "0.01\n"
     ]
    }
   ],
   "source": [
    "CFL = 0.5\n",
    "dt = CFL * dx / np.abs(u)\n",
    "print(dt)"
   ]
  },
  {
   "cell_type": "markdown",
   "metadata": {},
   "source": [
    "Set up an initial condition - it should *technically* be averaged over each cell, but not end of world to use the midpoint value!  Also, set up the storage of the solution:"
   ]
  },
  {
   "cell_type": "code",
   "execution_count": 7,
   "metadata": {},
   "outputs": [],
   "source": [
    "U = 0.75 * np.exp(-((xmid - 0.5)/0.1)**2)\n",
    "solution = []"
   ]
  },
  {
   "cell_type": "markdown",
   "metadata": {},
   "source": [
    "Now solve!  Loop through, first making a new array that has the solution array with an extra cell on each end - that way we can enforce the periodic boundary condition.  Then calculate the *flux* "
   ]
  },
  {
   "cell_type": "code",
   "execution_count": 8,
   "metadata": {},
   "outputs": [],
   "source": [
    "t = 0\n",
    "while t < tfinal:\n",
    "    Ubc = np.concatenate((np.array([U[-1]]), U, np.array([U[0]])))\n",
    "    F = 0.5 * u * (Ubc[1:] + Ubc[0:-1]) - 0.5 * np.abs(u) * \\\n",
    "    (Ubc[1:] - Ubc[0:-1])\n",
    "    R = F[1:]-F[:-1]\n",
    "    U = U - (dt/dx)*R\n",
    "    t += dt\n",
    "    solution.append(U)"
   ]
  },
  {
   "cell_type": "code",
   "execution_count": 9,
   "metadata": {},
   "outputs": [
    {
     "data": {
      "image/png": "[encoded data removed]",
      "text/plain": [
       "<Figure size 432x288 with 1 Axes>"
      ]
     },
     "metadata": {
      "needs_background": "light"
     },
     "output_type": "display_data"
    }
   ],
   "source": [
    "plt.plot(solution[30])\n",
    "plt.show()"
   ]
  },
  {
   "cell_type": "code",
   "execution_count": null,
   "metadata": {},
   "outputs": [],
   "source": []
  }
 ],
 "metadata": {
  "kernelspec": {
   "display_name": "Python 3",
   "language": "python",
   "name": "python3"
  },
  "language_info": {
   "codemirror_mode": {
    "name": "ipython",
    "version": 3
   },
   "file_extension": ".py",
   "mimetype": "text/x-python",
   "name": "python",
   "nbconvert_exporter": "python",
   "pygments_lexer": "ipython3",
   "version": "3.6.5"
  }
 },
 "nbformat": 4,
 "nbformat_minor": 2
}
